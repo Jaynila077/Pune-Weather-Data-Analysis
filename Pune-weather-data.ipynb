{
 "cells": [
  {
   "cell_type": "code",
   "execution_count": 2,
   "id": "4cb5abc2",
   "metadata": {},
   "outputs": [],
   "source": [
    "import numpy as np\n",
    "import pandas as pd"
   ]
  },
  {
   "cell_type": "markdown",
   "id": "4b353ff0",
   "metadata": {},
   "source": [
    "# Data Preprocessing\n"
   ]
  },
  {
   "cell_type": "code",
   "execution_count": 3,
   "id": "4b6b9e0d",
   "metadata": {},
   "outputs": [
    {
     "data": {
      "text/html": [
       "<div>\n",
       "<style scoped>\n",
       "    .dataframe tbody tr th:only-of-type {\n",
       "        vertical-align: middle;\n",
       "    }\n",
       "\n",
       "    .dataframe tbody tr th {\n",
       "        vertical-align: top;\n",
       "    }\n",
       "\n",
       "    .dataframe thead th {\n",
       "        text-align: right;\n",
       "    }\n",
       "</style>\n",
       "<table border=\"1\" class=\"dataframe\">\n",
       "  <thead>\n",
       "    <tr style=\"text-align: right;\">\n",
       "      <th></th>\n",
       "      <th>Time</th>\n",
       "      <th>maxtempC</th>\n",
       "      <th>mintempC</th>\n",
       "      <th>totalSnow_cm</th>\n",
       "      <th>sunHour</th>\n",
       "      <th>uvIndex</th>\n",
       "      <th>uvIndex.1</th>\n",
       "      <th>moon_illumination</th>\n",
       "      <th>moonrise</th>\n",
       "      <th>moonset</th>\n",
       "      <th>...</th>\n",
       "      <th>WindGustKmph</th>\n",
       "      <th>cloudcover</th>\n",
       "      <th>humidity</th>\n",
       "      <th>precipMM</th>\n",
       "      <th>pressure</th>\n",
       "      <th>tempC</th>\n",
       "      <th>visibility</th>\n",
       "      <th>winddirDegree</th>\n",
       "      <th>windspeedKmph</th>\n",
       "      <th>maxtempC.1</th>\n",
       "    </tr>\n",
       "    <tr>\n",
       "      <th>Date</th>\n",
       "      <th></th>\n",
       "      <th></th>\n",
       "      <th></th>\n",
       "      <th></th>\n",
       "      <th></th>\n",
       "      <th></th>\n",
       "      <th></th>\n",
       "      <th></th>\n",
       "      <th></th>\n",
       "      <th></th>\n",
       "      <th></th>\n",
       "      <th></th>\n",
       "      <th></th>\n",
       "      <th></th>\n",
       "      <th></th>\n",
       "      <th></th>\n",
       "      <th></th>\n",
       "      <th></th>\n",
       "      <th></th>\n",
       "      <th></th>\n",
       "      <th></th>\n",
       "    </tr>\n",
       "  </thead>\n",
       "  <tbody>\n",
       "    <tr>\n",
       "      <th>2009-01-01</th>\n",
       "      <td>00:00:00</td>\n",
       "      <td>31</td>\n",
       "      <td>13</td>\n",
       "      <td>0</td>\n",
       "      <td>11.0</td>\n",
       "      <td>6</td>\n",
       "      <td>1</td>\n",
       "      <td>31</td>\n",
       "      <td>10:17 AM</td>\n",
       "      <td>10:16 PM</td>\n",
       "      <td>...</td>\n",
       "      <td>7</td>\n",
       "      <td>0</td>\n",
       "      <td>50</td>\n",
       "      <td>0.0</td>\n",
       "      <td>1013</td>\n",
       "      <td>13</td>\n",
       "      <td>10</td>\n",
       "      <td>59</td>\n",
       "      <td>3</td>\n",
       "      <td>31</td>\n",
       "    </tr>\n",
       "    <tr>\n",
       "      <th>2009-01-01</th>\n",
       "      <td>01:00:00</td>\n",
       "      <td>31</td>\n",
       "      <td>13</td>\n",
       "      <td>0</td>\n",
       "      <td>11.0</td>\n",
       "      <td>6</td>\n",
       "      <td>1</td>\n",
       "      <td>31</td>\n",
       "      <td>10:17 AM</td>\n",
       "      <td>10:16 PM</td>\n",
       "      <td>...</td>\n",
       "      <td>9</td>\n",
       "      <td>0</td>\n",
       "      <td>47</td>\n",
       "      <td>0.0</td>\n",
       "      <td>1013</td>\n",
       "      <td>14</td>\n",
       "      <td>10</td>\n",
       "      <td>57</td>\n",
       "      <td>4</td>\n",
       "      <td>31</td>\n",
       "    </tr>\n",
       "    <tr>\n",
       "      <th>2009-01-01</th>\n",
       "      <td>02:00:00</td>\n",
       "      <td>31</td>\n",
       "      <td>13</td>\n",
       "      <td>0</td>\n",
       "      <td>11.0</td>\n",
       "      <td>6</td>\n",
       "      <td>1</td>\n",
       "      <td>31</td>\n",
       "      <td>10:17 AM</td>\n",
       "      <td>10:16 PM</td>\n",
       "      <td>...</td>\n",
       "      <td>10</td>\n",
       "      <td>0</td>\n",
       "      <td>44</td>\n",
       "      <td>0.0</td>\n",
       "      <td>1013</td>\n",
       "      <td>14</td>\n",
       "      <td>10</td>\n",
       "      <td>55</td>\n",
       "      <td>5</td>\n",
       "      <td>31</td>\n",
       "    </tr>\n",
       "    <tr>\n",
       "      <th>2009-01-01</th>\n",
       "      <td>03:00:00</td>\n",
       "      <td>31</td>\n",
       "      <td>13</td>\n",
       "      <td>0</td>\n",
       "      <td>11.0</td>\n",
       "      <td>6</td>\n",
       "      <td>1</td>\n",
       "      <td>31</td>\n",
       "      <td>10:17 AM</td>\n",
       "      <td>10:16 PM</td>\n",
       "      <td>...</td>\n",
       "      <td>12</td>\n",
       "      <td>0</td>\n",
       "      <td>41</td>\n",
       "      <td>0.0</td>\n",
       "      <td>1013</td>\n",
       "      <td>15</td>\n",
       "      <td>10</td>\n",
       "      <td>54</td>\n",
       "      <td>6</td>\n",
       "      <td>31</td>\n",
       "    </tr>\n",
       "    <tr>\n",
       "      <th>2009-01-01</th>\n",
       "      <td>04:00:00</td>\n",
       "      <td>31</td>\n",
       "      <td>13</td>\n",
       "      <td>0</td>\n",
       "      <td>11.0</td>\n",
       "      <td>6</td>\n",
       "      <td>1</td>\n",
       "      <td>31</td>\n",
       "      <td>10:17 AM</td>\n",
       "      <td>10:16 PM</td>\n",
       "      <td>...</td>\n",
       "      <td>11</td>\n",
       "      <td>1</td>\n",
       "      <td>38</td>\n",
       "      <td>0.0</td>\n",
       "      <td>1014</td>\n",
       "      <td>16</td>\n",
       "      <td>10</td>\n",
       "      <td>68</td>\n",
       "      <td>6</td>\n",
       "      <td>31</td>\n",
       "    </tr>\n",
       "    <tr>\n",
       "      <th>...</th>\n",
       "      <td>...</td>\n",
       "      <td>...</td>\n",
       "      <td>...</td>\n",
       "      <td>...</td>\n",
       "      <td>...</td>\n",
       "      <td>...</td>\n",
       "      <td>...</td>\n",
       "      <td>...</td>\n",
       "      <td>...</td>\n",
       "      <td>...</td>\n",
       "      <td>...</td>\n",
       "      <td>...</td>\n",
       "      <td>...</td>\n",
       "      <td>...</td>\n",
       "      <td>...</td>\n",
       "      <td>...</td>\n",
       "      <td>...</td>\n",
       "      <td>...</td>\n",
       "      <td>...</td>\n",
       "      <td>...</td>\n",
       "      <td>...</td>\n",
       "    </tr>\n",
       "    <tr>\n",
       "      <th>2020-01-01</th>\n",
       "      <td>19:00:00</td>\n",
       "      <td>29</td>\n",
       "      <td>18</td>\n",
       "      <td>0</td>\n",
       "      <td>11.0</td>\n",
       "      <td>6</td>\n",
       "      <td>1</td>\n",
       "      <td>37</td>\n",
       "      <td>11:34 AM</td>\n",
       "      <td>11:32 PM</td>\n",
       "      <td>...</td>\n",
       "      <td>20</td>\n",
       "      <td>3</td>\n",
       "      <td>49</td>\n",
       "      <td>0.0</td>\n",
       "      <td>1014</td>\n",
       "      <td>23</td>\n",
       "      <td>10</td>\n",
       "      <td>255</td>\n",
       "      <td>12</td>\n",
       "      <td>29</td>\n",
       "    </tr>\n",
       "    <tr>\n",
       "      <th>2020-01-01</th>\n",
       "      <td>20:00:00</td>\n",
       "      <td>29</td>\n",
       "      <td>18</td>\n",
       "      <td>0</td>\n",
       "      <td>11.0</td>\n",
       "      <td>6</td>\n",
       "      <td>1</td>\n",
       "      <td>37</td>\n",
       "      <td>11:34 AM</td>\n",
       "      <td>11:32 PM</td>\n",
       "      <td>...</td>\n",
       "      <td>19</td>\n",
       "      <td>3</td>\n",
       "      <td>53</td>\n",
       "      <td>0.0</td>\n",
       "      <td>1014</td>\n",
       "      <td>22</td>\n",
       "      <td>10</td>\n",
       "      <td>258</td>\n",
       "      <td>11</td>\n",
       "      <td>29</td>\n",
       "    </tr>\n",
       "    <tr>\n",
       "      <th>2020-01-01</th>\n",
       "      <td>21:00:00</td>\n",
       "      <td>29</td>\n",
       "      <td>18</td>\n",
       "      <td>0</td>\n",
       "      <td>11.0</td>\n",
       "      <td>6</td>\n",
       "      <td>1</td>\n",
       "      <td>37</td>\n",
       "      <td>11:34 AM</td>\n",
       "      <td>11:32 PM</td>\n",
       "      <td>...</td>\n",
       "      <td>18</td>\n",
       "      <td>2</td>\n",
       "      <td>57</td>\n",
       "      <td>0.0</td>\n",
       "      <td>1015</td>\n",
       "      <td>21</td>\n",
       "      <td>10</td>\n",
       "      <td>262</td>\n",
       "      <td>10</td>\n",
       "      <td>29</td>\n",
       "    </tr>\n",
       "    <tr>\n",
       "      <th>2020-01-01</th>\n",
       "      <td>22:00:00</td>\n",
       "      <td>29</td>\n",
       "      <td>18</td>\n",
       "      <td>0</td>\n",
       "      <td>11.0</td>\n",
       "      <td>6</td>\n",
       "      <td>1</td>\n",
       "      <td>37</td>\n",
       "      <td>11:34 AM</td>\n",
       "      <td>11:32 PM</td>\n",
       "      <td>...</td>\n",
       "      <td>17</td>\n",
       "      <td>2</td>\n",
       "      <td>60</td>\n",
       "      <td>0.0</td>\n",
       "      <td>1015</td>\n",
       "      <td>20</td>\n",
       "      <td>10</td>\n",
       "      <td>264</td>\n",
       "      <td>9</td>\n",
       "      <td>29</td>\n",
       "    </tr>\n",
       "    <tr>\n",
       "      <th>2020-01-01</th>\n",
       "      <td>23:00:00</td>\n",
       "      <td>29</td>\n",
       "      <td>18</td>\n",
       "      <td>0</td>\n",
       "      <td>11.0</td>\n",
       "      <td>6</td>\n",
       "      <td>1</td>\n",
       "      <td>37</td>\n",
       "      <td>11:34 AM</td>\n",
       "      <td>11:32 PM</td>\n",
       "      <td>...</td>\n",
       "      <td>16</td>\n",
       "      <td>2</td>\n",
       "      <td>62</td>\n",
       "      <td>0.0</td>\n",
       "      <td>1015</td>\n",
       "      <td>20</td>\n",
       "      <td>10</td>\n",
       "      <td>267</td>\n",
       "      <td>9</td>\n",
       "      <td>29</td>\n",
       "    </tr>\n",
       "  </tbody>\n",
       "</table>\n",
       "<p>96432 rows × 26 columns</p>\n",
       "</div>"
      ],
      "text/plain": [
       "                Time  maxtempC  mintempC  totalSnow_cm  sunHour  uvIndex  \\\n",
       "Date                                                                       \n",
       "2009-01-01  00:00:00        31        13             0     11.0        6   \n",
       "2009-01-01  01:00:00        31        13             0     11.0        6   \n",
       "2009-01-01  02:00:00        31        13             0     11.0        6   \n",
       "2009-01-01  03:00:00        31        13             0     11.0        6   \n",
       "2009-01-01  04:00:00        31        13             0     11.0        6   \n",
       "...              ...       ...       ...           ...      ...      ...   \n",
       "2020-01-01  19:00:00        29        18             0     11.0        6   \n",
       "2020-01-01  20:00:00        29        18             0     11.0        6   \n",
       "2020-01-01  21:00:00        29        18             0     11.0        6   \n",
       "2020-01-01  22:00:00        29        18             0     11.0        6   \n",
       "2020-01-01  23:00:00        29        18             0     11.0        6   \n",
       "\n",
       "            uvIndex.1  moon_illumination  moonrise   moonset  ...  \\\n",
       "Date                                                          ...   \n",
       "2009-01-01          1                 31  10:17 AM  10:16 PM  ...   \n",
       "2009-01-01          1                 31  10:17 AM  10:16 PM  ...   \n",
       "2009-01-01          1                 31  10:17 AM  10:16 PM  ...   \n",
       "2009-01-01          1                 31  10:17 AM  10:16 PM  ...   \n",
       "2009-01-01          1                 31  10:17 AM  10:16 PM  ...   \n",
       "...               ...                ...       ...       ...  ...   \n",
       "2020-01-01          1                 37  11:34 AM  11:32 PM  ...   \n",
       "2020-01-01          1                 37  11:34 AM  11:32 PM  ...   \n",
       "2020-01-01          1                 37  11:34 AM  11:32 PM  ...   \n",
       "2020-01-01          1                 37  11:34 AM  11:32 PM  ...   \n",
       "2020-01-01          1                 37  11:34 AM  11:32 PM  ...   \n",
       "\n",
       "           WindGustKmph cloudcover  humidity  precipMM  pressure  tempC  \\\n",
       "Date                                                                      \n",
       "2009-01-01            7          0        50       0.0      1013     13   \n",
       "2009-01-01            9          0        47       0.0      1013     14   \n",
       "2009-01-01           10          0        44       0.0      1013     14   \n",
       "2009-01-01           12          0        41       0.0      1013     15   \n",
       "2009-01-01           11          1        38       0.0      1014     16   \n",
       "...                 ...        ...       ...       ...       ...    ...   \n",
       "2020-01-01           20          3        49       0.0      1014     23   \n",
       "2020-01-01           19          3        53       0.0      1014     22   \n",
       "2020-01-01           18          2        57       0.0      1015     21   \n",
       "2020-01-01           17          2        60       0.0      1015     20   \n",
       "2020-01-01           16          2        62       0.0      1015     20   \n",
       "\n",
       "            visibility  winddirDegree  windspeedKmph  maxtempC.1  \n",
       "Date                                                              \n",
       "2009-01-01          10             59              3          31  \n",
       "2009-01-01          10             57              4          31  \n",
       "2009-01-01          10             55              5          31  \n",
       "2009-01-01          10             54              6          31  \n",
       "2009-01-01          10             68              6          31  \n",
       "...                ...            ...            ...         ...  \n",
       "2020-01-01          10            255             12          29  \n",
       "2020-01-01          10            258             11          29  \n",
       "2020-01-01          10            262             10          29  \n",
       "2020-01-01          10            264              9          29  \n",
       "2020-01-01          10            267              9          29  \n",
       "\n",
       "[96432 rows x 26 columns]"
      ]
     },
     "execution_count": 3,
     "metadata": {},
     "output_type": "execute_result"
    }
   ],
   "source": [
    "df = pd.read_csv(\"pune.csv\" , index_col=\"Date\")\n",
    "df"
   ]
  },
  {
   "cell_type": "code",
   "execution_count": 4,
   "id": "41d9bfe9",
   "metadata": {},
   "outputs": [
    {
     "data": {
      "text/plain": [
       "Time                 0.0\n",
       "maxtempC             0.0\n",
       "mintempC             0.0\n",
       "totalSnow_cm         0.0\n",
       "sunHour              0.0\n",
       "uvIndex              0.0\n",
       "uvIndex.1            0.0\n",
       "moon_illumination    0.0\n",
       "moonrise             0.0\n",
       "moonset              0.0\n",
       "sunrise              0.0\n",
       "sunset               0.0\n",
       "DewPointC            0.0\n",
       "FeelsLikeC           0.0\n",
       "HeatIndexC           0.0\n",
       "WindChillC           0.0\n",
       "WindGustKmph         0.0\n",
       "cloudcover           0.0\n",
       "humidity             0.0\n",
       "precipMM             0.0\n",
       "pressure             0.0\n",
       "tempC                0.0\n",
       "visibility           0.0\n",
       "winddirDegree        0.0\n",
       "windspeedKmph        0.0\n",
       "maxtempC.1           0.0\n",
       "dtype: float64"
      ]
     },
     "execution_count": 4,
     "metadata": {},
     "output_type": "execute_result"
    }
   ],
   "source": [
    "df.apply(pd.isnull).sum()/df.shape[0]"
   ]
  },
  {
   "cell_type": "code",
   "execution_count": 5,
   "id": "5072dc92",
   "metadata": {},
   "outputs": [],
   "source": [
    "wt = df[[\"Time\",\"maxtempC\",\"mintempC\",\"DewPointC\",\"cloudcover\",\"humidity\",\"pressure\",\"visibility\",\"windspeedKmph\",\"precipMM\"]].copy()"
   ]
  },
  {
   "cell_type": "code",
   "execution_count": 6,
   "id": "0b2039d0",
   "metadata": {},
   "outputs": [
    {
     "data": {
      "text/html": [
       "<div>\n",
       "<style scoped>\n",
       "    .dataframe tbody tr th:only-of-type {\n",
       "        vertical-align: middle;\n",
       "    }\n",
       "\n",
       "    .dataframe tbody tr th {\n",
       "        vertical-align: top;\n",
       "    }\n",
       "\n",
       "    .dataframe thead th {\n",
       "        text-align: right;\n",
       "    }\n",
       "</style>\n",
       "<table border=\"1\" class=\"dataframe\">\n",
       "  <thead>\n",
       "    <tr style=\"text-align: right;\">\n",
       "      <th></th>\n",
       "      <th>Time</th>\n",
       "      <th>maxtempC</th>\n",
       "      <th>mintempC</th>\n",
       "      <th>DewPointC</th>\n",
       "      <th>cloudcover</th>\n",
       "      <th>humidity</th>\n",
       "      <th>pressure</th>\n",
       "      <th>visibility</th>\n",
       "      <th>windspeedKmph</th>\n",
       "      <th>precipMM</th>\n",
       "    </tr>\n",
       "    <tr>\n",
       "      <th>Date</th>\n",
       "      <th></th>\n",
       "      <th></th>\n",
       "      <th></th>\n",
       "      <th></th>\n",
       "      <th></th>\n",
       "      <th></th>\n",
       "      <th></th>\n",
       "      <th></th>\n",
       "      <th></th>\n",
       "      <th></th>\n",
       "    </tr>\n",
       "  </thead>\n",
       "  <tbody>\n",
       "    <tr>\n",
       "      <th>2009-01-01</th>\n",
       "      <td>00:00:00</td>\n",
       "      <td>31</td>\n",
       "      <td>13</td>\n",
       "      <td>7</td>\n",
       "      <td>0</td>\n",
       "      <td>50</td>\n",
       "      <td>1013</td>\n",
       "      <td>10</td>\n",
       "      <td>3</td>\n",
       "      <td>0.0</td>\n",
       "    </tr>\n",
       "    <tr>\n",
       "      <th>2009-01-01</th>\n",
       "      <td>01:00:00</td>\n",
       "      <td>31</td>\n",
       "      <td>13</td>\n",
       "      <td>6</td>\n",
       "      <td>0</td>\n",
       "      <td>47</td>\n",
       "      <td>1013</td>\n",
       "      <td>10</td>\n",
       "      <td>4</td>\n",
       "      <td>0.0</td>\n",
       "    </tr>\n",
       "    <tr>\n",
       "      <th>2009-01-01</th>\n",
       "      <td>02:00:00</td>\n",
       "      <td>31</td>\n",
       "      <td>13</td>\n",
       "      <td>6</td>\n",
       "      <td>0</td>\n",
       "      <td>44</td>\n",
       "      <td>1013</td>\n",
       "      <td>10</td>\n",
       "      <td>5</td>\n",
       "      <td>0.0</td>\n",
       "    </tr>\n",
       "    <tr>\n",
       "      <th>2009-01-01</th>\n",
       "      <td>03:00:00</td>\n",
       "      <td>31</td>\n",
       "      <td>13</td>\n",
       "      <td>5</td>\n",
       "      <td>0</td>\n",
       "      <td>41</td>\n",
       "      <td>1013</td>\n",
       "      <td>10</td>\n",
       "      <td>6</td>\n",
       "      <td>0.0</td>\n",
       "    </tr>\n",
       "    <tr>\n",
       "      <th>2009-01-01</th>\n",
       "      <td>04:00:00</td>\n",
       "      <td>31</td>\n",
       "      <td>13</td>\n",
       "      <td>5</td>\n",
       "      <td>1</td>\n",
       "      <td>38</td>\n",
       "      <td>1014</td>\n",
       "      <td>10</td>\n",
       "      <td>6</td>\n",
       "      <td>0.0</td>\n",
       "    </tr>\n",
       "    <tr>\n",
       "      <th>...</th>\n",
       "      <td>...</td>\n",
       "      <td>...</td>\n",
       "      <td>...</td>\n",
       "      <td>...</td>\n",
       "      <td>...</td>\n",
       "      <td>...</td>\n",
       "      <td>...</td>\n",
       "      <td>...</td>\n",
       "      <td>...</td>\n",
       "      <td>...</td>\n",
       "    </tr>\n",
       "    <tr>\n",
       "      <th>2020-01-01</th>\n",
       "      <td>19:00:00</td>\n",
       "      <td>29</td>\n",
       "      <td>18</td>\n",
       "      <td>11</td>\n",
       "      <td>3</td>\n",
       "      <td>49</td>\n",
       "      <td>1014</td>\n",
       "      <td>10</td>\n",
       "      <td>12</td>\n",
       "      <td>0.0</td>\n",
       "    </tr>\n",
       "    <tr>\n",
       "      <th>2020-01-01</th>\n",
       "      <td>20:00:00</td>\n",
       "      <td>29</td>\n",
       "      <td>18</td>\n",
       "      <td>12</td>\n",
       "      <td>3</td>\n",
       "      <td>53</td>\n",
       "      <td>1014</td>\n",
       "      <td>10</td>\n",
       "      <td>11</td>\n",
       "      <td>0.0</td>\n",
       "    </tr>\n",
       "    <tr>\n",
       "      <th>2020-01-01</th>\n",
       "      <td>21:00:00</td>\n",
       "      <td>29</td>\n",
       "      <td>18</td>\n",
       "      <td>12</td>\n",
       "      <td>2</td>\n",
       "      <td>57</td>\n",
       "      <td>1015</td>\n",
       "      <td>10</td>\n",
       "      <td>10</td>\n",
       "      <td>0.0</td>\n",
       "    </tr>\n",
       "    <tr>\n",
       "      <th>2020-01-01</th>\n",
       "      <td>22:00:00</td>\n",
       "      <td>29</td>\n",
       "      <td>18</td>\n",
       "      <td>12</td>\n",
       "      <td>2</td>\n",
       "      <td>60</td>\n",
       "      <td>1015</td>\n",
       "      <td>10</td>\n",
       "      <td>9</td>\n",
       "      <td>0.0</td>\n",
       "    </tr>\n",
       "    <tr>\n",
       "      <th>2020-01-01</th>\n",
       "      <td>23:00:00</td>\n",
       "      <td>29</td>\n",
       "      <td>18</td>\n",
       "      <td>13</td>\n",
       "      <td>2</td>\n",
       "      <td>62</td>\n",
       "      <td>1015</td>\n",
       "      <td>10</td>\n",
       "      <td>9</td>\n",
       "      <td>0.0</td>\n",
       "    </tr>\n",
       "  </tbody>\n",
       "</table>\n",
       "<p>96432 rows × 10 columns</p>\n",
       "</div>"
      ],
      "text/plain": [
       "                Time  maxtempC  mintempC  DewPointC  cloudcover  humidity  \\\n",
       "Date                                                                        \n",
       "2009-01-01  00:00:00        31        13          7           0        50   \n",
       "2009-01-01  01:00:00        31        13          6           0        47   \n",
       "2009-01-01  02:00:00        31        13          6           0        44   \n",
       "2009-01-01  03:00:00        31        13          5           0        41   \n",
       "2009-01-01  04:00:00        31        13          5           1        38   \n",
       "...              ...       ...       ...        ...         ...       ...   \n",
       "2020-01-01  19:00:00        29        18         11           3        49   \n",
       "2020-01-01  20:00:00        29        18         12           3        53   \n",
       "2020-01-01  21:00:00        29        18         12           2        57   \n",
       "2020-01-01  22:00:00        29        18         12           2        60   \n",
       "2020-01-01  23:00:00        29        18         13           2        62   \n",
       "\n",
       "            pressure  visibility  windspeedKmph  precipMM  \n",
       "Date                                                       \n",
       "2009-01-01      1013          10              3       0.0  \n",
       "2009-01-01      1013          10              4       0.0  \n",
       "2009-01-01      1013          10              5       0.0  \n",
       "2009-01-01      1013          10              6       0.0  \n",
       "2009-01-01      1014          10              6       0.0  \n",
       "...              ...         ...            ...       ...  \n",
       "2020-01-01      1014          10             12       0.0  \n",
       "2020-01-01      1014          10             11       0.0  \n",
       "2020-01-01      1015          10             10       0.0  \n",
       "2020-01-01      1015          10              9       0.0  \n",
       "2020-01-01      1015          10              9       0.0  \n",
       "\n",
       "[96432 rows x 10 columns]"
      ]
     },
     "execution_count": 6,
     "metadata": {},
     "output_type": "execute_result"
    }
   ],
   "source": [
    "wt"
   ]
  },
  {
   "cell_type": "code",
   "execution_count": 7,
   "id": "4e6a08a9",
   "metadata": {
    "scrolled": true
   },
   "outputs": [
    {
     "data": {
      "text/plain": [
       "0.0     85023\n",
       "0.1      3392\n",
       "0.2      1881\n",
       "0.3      1257\n",
       "0.4       932\n",
       "        ...  \n",
       "7.8         1\n",
       "8.1         1\n",
       "11.0        1\n",
       "5.4         1\n",
       "12.2        1\n",
       "Name: precipMM, Length: 103, dtype: int64"
      ]
     },
     "execution_count": 7,
     "metadata": {},
     "output_type": "execute_result"
    }
   ],
   "source": [
    "wt[\"precipMM\"].value_counts()"
   ]
  },
  {
   "cell_type": "code",
   "execution_count": 8,
   "id": "5809215b",
   "metadata": {},
   "outputs": [
    {
     "data": {
      "text/plain": [
       "29    12216\n",
       "30    11064\n",
       "28    10128\n",
       "31     7488\n",
       "27     6120\n",
       "37     5472\n",
       "32     5448\n",
       "38     5112\n",
       "26     4488\n",
       "25     4008\n",
       "36     3672\n",
       "33     3672\n",
       "35     3600\n",
       "34     3408\n",
       "39     3384\n",
       "24     2640\n",
       "23     1824\n",
       "40     1368\n",
       "41      576\n",
       "22      576\n",
       "42       96\n",
       "21       48\n",
       "20       24\n",
       "Name: maxtempC, dtype: int64"
      ]
     },
     "execution_count": 8,
     "metadata": {},
     "output_type": "execute_result"
    }
   ],
   "source": [
    "wt[\"maxtempC\"].value_counts()"
   ]
  },
  {
   "cell_type": "code",
   "execution_count": 9,
   "id": "916ac5f6",
   "metadata": {},
   "outputs": [
    {
     "data": {
      "text/plain": [
       "22    19344\n",
       "21    14400\n",
       "23     9984\n",
       "20     9096\n",
       "19     7320\n",
       "18     5856\n",
       "24     5760\n",
       "17     5496\n",
       "16     5376\n",
       "15     3240\n",
       "14     2760\n",
       "25     2736\n",
       "13     1944\n",
       "26     1320\n",
       "12      744\n",
       "27      432\n",
       "11      312\n",
       "28      120\n",
       "29       96\n",
       "10       72\n",
       "30       24\n",
       "Name: mintempC, dtype: int64"
      ]
     },
     "execution_count": 9,
     "metadata": {},
     "output_type": "execute_result"
    }
   ],
   "source": [
    "wt[\"mintempC\"].value_counts()"
   ]
  },
  {
   "cell_type": "code",
   "execution_count": 10,
   "id": "38b706c2",
   "metadata": {},
   "outputs": [
    {
     "data": {
      "text/plain": [
       "Time              object\n",
       "maxtempC           int64\n",
       "mintempC           int64\n",
       "DewPointC          int64\n",
       "cloudcover         int64\n",
       "humidity           int64\n",
       "pressure           int64\n",
       "visibility         int64\n",
       "windspeedKmph      int64\n",
       "precipMM         float64\n",
       "dtype: object"
      ]
     },
     "execution_count": 10,
     "metadata": {},
     "output_type": "execute_result"
    }
   ],
   "source": [
    "wt.dtypes"
   ]
  },
  {
   "cell_type": "code",
   "execution_count": 11,
   "id": "83646dc2",
   "metadata": {},
   "outputs": [
    {
     "data": {
      "text/plain": [
       "Index(['2009-01-01', '2009-01-01', '2009-01-01', '2009-01-01', '2009-01-01',\n",
       "       '2009-01-01', '2009-01-01', '2009-01-01', '2009-01-01', '2009-01-01',\n",
       "       ...\n",
       "       '2020-01-01', '2020-01-01', '2020-01-01', '2020-01-01', '2020-01-01',\n",
       "       '2020-01-01', '2020-01-01', '2020-01-01', '2020-01-01', '2020-01-01'],\n",
       "      dtype='object', name='Date', length=96432)"
      ]
     },
     "execution_count": 11,
     "metadata": {},
     "output_type": "execute_result"
    }
   ],
   "source": [
    "wt.index"
   ]
  },
  {
   "cell_type": "code",
   "execution_count": 12,
   "id": "422fab34",
   "metadata": {},
   "outputs": [
    {
     "data": {
      "text/plain": [
       "DatetimeIndex(['2009-01-01', '2009-01-01', '2009-01-01', '2009-01-01',\n",
       "               '2009-01-01', '2009-01-01', '2009-01-01', '2009-01-01',\n",
       "               '2009-01-01', '2009-01-01',\n",
       "               ...\n",
       "               '2020-01-01', '2020-01-01', '2020-01-01', '2020-01-01',\n",
       "               '2020-01-01', '2020-01-01', '2020-01-01', '2020-01-01',\n",
       "               '2020-01-01', '2020-01-01'],\n",
       "              dtype='datetime64[ns]', name='Date', length=96432, freq=None)"
      ]
     },
     "execution_count": 12,
     "metadata": {},
     "output_type": "execute_result"
    }
   ],
   "source": [
    "wt.index = pd.to_datetime(wt.index)\n",
    "wt.index"
   ]
  },
  {
   "cell_type": "code",
   "execution_count": 13,
   "id": "aed94bd5",
   "metadata": {},
   "outputs": [
    {
     "data": {
      "text/plain": [
       "Int64Index([2009, 2009, 2009, 2009, 2009, 2009, 2009, 2009, 2009, 2009,\n",
       "            ...\n",
       "            2020, 2020, 2020, 2020, 2020, 2020, 2020, 2020, 2020, 2020],\n",
       "           dtype='int64', name='Date', length=96432)"
      ]
     },
     "execution_count": 13,
     "metadata": {},
     "output_type": "execute_result"
    }
   ],
   "source": [
    "wt.index.year"
   ]
  },
  {
   "cell_type": "code",
   "execution_count": 14,
   "id": "c3c1f9fa",
   "metadata": {},
   "outputs": [
    {
     "data": {
      "text/plain": [
       "2009    8760\n",
       "2010    8760\n",
       "2011    8760\n",
       "2012    8784\n",
       "2013    8760\n",
       "2014    8760\n",
       "2015    8760\n",
       "2016    8784\n",
       "2017    8760\n",
       "2018    8760\n",
       "2019    8760\n",
       "2020      24\n",
       "Name: Date, dtype: int64"
      ]
     },
     "execution_count": 14,
     "metadata": {},
     "output_type": "execute_result"
    }
   ],
   "source": [
    "wt.index.year.value_counts().sort_index()"
   ]
  },
  {
   "cell_type": "code",
   "execution_count": 15,
   "id": "4c5eb860",
   "metadata": {},
   "outputs": [
    {
     "data": {
      "text/plain": [
       "<AxesSubplot:xlabel='Date'>"
      ]
     },
     "execution_count": 15,
     "metadata": {},
     "output_type": "execute_result"
    },
    {
     "data": {
      "image/png": "[encoded data removed]",
      "text/plain": [
       "<Figure size 640x480 with 1 Axes>"
      ]
     },
     "metadata": {},
     "output_type": "display_data"
    }
   ],
   "source": [
    "wt[[\"maxtempC\",\"mintempC\"]].plot()"
   ]
  },
  {
   "cell_type": "code",
   "execution_count": 16,
   "id": "116d7907",
   "metadata": {},
   "outputs": [
    {
     "data": {
      "text/plain": [
       "<AxesSubplot:xlabel='Date'>"
      ]
     },
     "execution_count": 16,
     "metadata": {},
     "output_type": "execute_result"
    },
    {
     "data": {
      "image/png": "[encoded data removed]",
      "text/plain": [
       "<Figure size 640x480 with 1 Axes>"
      ]
     },
     "metadata": {},
     "output_type": "display_data"
    }
   ],
   "source": [
    "wt[[\"precipMM\"]].plot()"
   ]
  },
  {
   "cell_type": "code",
   "execution_count": 17,
   "id": "8561f93d",
   "metadata": {},
   "outputs": [
    {
     "data": {
      "text/plain": [
       "Date\n",
       "2009     714.2\n",
       "2010     578.4\n",
       "2011     454.8\n",
       "2012     450.0\n",
       "2013     442.8\n",
       "2014     396.6\n",
       "2015     427.4\n",
       "2016     478.5\n",
       "2017     530.0\n",
       "2018     487.4\n",
       "2019    1787.4\n",
       "2020       0.0\n",
       "Name: precipMM, dtype: float64"
      ]
     },
     "execution_count": 17,
     "metadata": {},
     "output_type": "execute_result"
    }
   ],
   "source": [
    "wt.groupby(wt.index.year).sum()[\"precipMM\"]"
   ]
  },
  {
   "cell_type": "code",
   "execution_count": 18,
   "id": "be1a9dfe",
   "metadata": {},
   "outputs": [
    {
     "data": {
      "text/plain": [
       "<AxesSubplot:xlabel='Date'>"
      ]
     },
     "execution_count": 18,
     "metadata": {},
     "output_type": "execute_result"
    },
    {
     "data": {
      "image/png": "[encoded data removed]",
      "text/plain": [
       "<Figure size 640x480 with 1 Axes>"
      ]
     },
     "metadata": {},
     "output_type": "display_data"
    }
   ],
   "source": [
    "wt[[\"DewPointC\"]].plot()"
   ]
  },
  {
   "cell_type": "code",
   "execution_count": 19,
   "id": "50f49c8c",
   "metadata": {},
   "outputs": [
    {
     "data": {
      "text/plain": [
       "<AxesSubplot:xlabel='Date'>"
      ]
     },
     "execution_count": 19,
     "metadata": {},
     "output_type": "execute_result"
    },
    {
     "data": {
      "image/png": "[encoded data removed]",
      "text/plain": [
       "<Figure size 640x480 with 1 Axes>"
      ]
     },
     "metadata": {},
     "output_type": "display_data"
    }
   ],
   "source": [
    "wt[[\"humidity\"]].plot()"
   ]
  },
  {
   "cell_type": "code",
   "execution_count": 20,
   "id": "aed4d360",
   "metadata": {},
   "outputs": [
    {
     "data": {
      "text/plain": [
       "<AxesSubplot:xlabel='Date'>"
      ]
     },
     "execution_count": 20,
     "metadata": {},
     "output_type": "execute_result"
    },
    {
     "data": {
      "image/png": "[encoded data removed]",
      "text/plain": [
       "<Figure size 640x480 with 1 Axes>"
      ]
     },
     "metadata": {},
     "output_type": "display_data"
    }
   ],
   "source": [
    "wt[[\"pressure\"]].plot()"
   ]
  },
  {
   "cell_type": "code",
   "execution_count": 21,
   "id": "a4cdfc5f",
   "metadata": {},
   "outputs": [
    {
     "data": {
      "text/plain": [
       "<AxesSubplot:xlabel='Date'>"
      ]
     },
     "execution_count": 21,
     "metadata": {},
     "output_type": "execute_result"
    },
    {
     "data": {
      "image/png": "[encoded data removed]",
      "text/plain": [
       "<Figure size 640x480 with 1 Axes>"
      ]
     },
     "metadata": {},
     "output_type": "display_data"
    }
   ],
   "source": [
    "wt[[\"cloudcover\"]].plot()"
   ]
  },
  {
   "cell_type": "code",
   "execution_count": 22,
   "id": "63e6df40",
   "metadata": {},
   "outputs": [
    {
     "data": {
      "text/plain": [
       "<AxesSubplot:xlabel='Date'>"
      ]
     },
     "execution_count": 22,
     "metadata": {},
     "output_type": "execute_result"
    },
    {
     "data": {
      "image/png": "[encoded data removed]",
      "text/plain": [
       "<Figure size 640x480 with 1 Axes>"
      ]
     },
     "metadata": {},
     "output_type": "display_data"
    }
   ],
   "source": [
    "wt[[\"windspeedKmph\"]].plot()"
   ]
  },
  {
   "cell_type": "code",
   "execution_count": 23,
   "id": "64a43e19",
   "metadata": {},
   "outputs": [
    {
     "data": {
      "text/plain": [
       "<AxesSubplot:xlabel='Date'>"
      ]
     },
     "execution_count": 23,
     "metadata": {},
     "output_type": "execute_result"
    },
    {
     "data": {
      "image/png": "[encoded data removed]",
      "text/plain": [
       "<Figure size 640x480 with 1 Axes>"
      ]
     },
     "metadata": {},
     "output_type": "display_data"
    }
   ],
   "source": [
    "wt[[\"visibility\"]].plot()"
   ]
  },
  {
   "cell_type": "code",
   "execution_count": 25,
   "id": "aaead158",
   "metadata": {},
   "outputs": [
    {
     "data": {
      "text/html": [
       "<div>\n",
       "<style scoped>\n",
       "    .dataframe tbody tr th:only-of-type {\n",
       "        vertical-align: middle;\n",
       "    }\n",
       "\n",
       "    .dataframe tbody tr th {\n",
       "        vertical-align: top;\n",
       "    }\n",
       "\n",
       "    .dataframe thead th {\n",
       "        text-align: right;\n",
       "    }\n",
       "</style>\n",
       "<table border=\"1\" class=\"dataframe\">\n",
       "  <thead>\n",
       "    <tr style=\"text-align: right;\">\n",
       "      <th></th>\n",
       "      <th>Time</th>\n",
       "      <th>maxtempC</th>\n",
       "      <th>mintempC</th>\n",
       "      <th>DewPointC</th>\n",
       "      <th>cloudcover</th>\n",
       "      <th>humidity</th>\n",
       "      <th>pressure</th>\n",
       "      <th>visibility</th>\n",
       "      <th>windspeedKmph</th>\n",
       "      <th>precipMM</th>\n",
       "      <th>target</th>\n",
       "    </tr>\n",
       "    <tr>\n",
       "      <th>Date</th>\n",
       "      <th></th>\n",
       "      <th></th>\n",
       "      <th></th>\n",
       "      <th></th>\n",
       "      <th></th>\n",
       "      <th></th>\n",
       "      <th></th>\n",
       "      <th></th>\n",
       "      <th></th>\n",
       "      <th></th>\n",
       "      <th></th>\n",
       "    </tr>\n",
       "  </thead>\n",
       "  <tbody>\n",
       "    <tr>\n",
       "      <th>2009-01-01</th>\n",
       "      <td>00:00:00</td>\n",
       "      <td>31</td>\n",
       "      <td>13</td>\n",
       "      <td>7</td>\n",
       "      <td>0</td>\n",
       "      <td>50</td>\n",
       "      <td>1013</td>\n",
       "      <td>10</td>\n",
       "      <td>3</td>\n",
       "      <td>0.0</td>\n",
       "      <td>0.0</td>\n",
       "    </tr>\n",
       "    <tr>\n",
       "      <th>2009-01-01</th>\n",
       "      <td>01:00:00</td>\n",
       "      <td>31</td>\n",
       "      <td>13</td>\n",
       "      <td>6</td>\n",
       "      <td>0</td>\n",
       "      <td>47</td>\n",
       "      <td>1013</td>\n",
       "      <td>10</td>\n",
       "      <td>4</td>\n",
       "      <td>0.0</td>\n",
       "      <td>0.0</td>\n",
       "    </tr>\n",
       "    <tr>\n",
       "      <th>2009-01-01</th>\n",
       "      <td>02:00:00</td>\n",
       "      <td>31</td>\n",
       "      <td>13</td>\n",
       "      <td>6</td>\n",
       "      <td>0</td>\n",
       "      <td>44</td>\n",
       "      <td>1013</td>\n",
       "      <td>10</td>\n",
       "      <td>5</td>\n",
       "      <td>0.0</td>\n",
       "      <td>0.0</td>\n",
       "    </tr>\n",
       "    <tr>\n",
       "      <th>2009-01-01</th>\n",
       "      <td>03:00:00</td>\n",
       "      <td>31</td>\n",
       "      <td>13</td>\n",
       "      <td>5</td>\n",
       "      <td>0</td>\n",
       "      <td>41</td>\n",
       "      <td>1013</td>\n",
       "      <td>10</td>\n",
       "      <td>6</td>\n",
       "      <td>0.0</td>\n",
       "      <td>0.0</td>\n",
       "    </tr>\n",
       "    <tr>\n",
       "      <th>2009-01-01</th>\n",
       "      <td>04:00:00</td>\n",
       "      <td>31</td>\n",
       "      <td>13</td>\n",
       "      <td>5</td>\n",
       "      <td>1</td>\n",
       "      <td>38</td>\n",
       "      <td>1014</td>\n",
       "      <td>10</td>\n",
       "      <td>6</td>\n",
       "      <td>0.0</td>\n",
       "      <td>0.0</td>\n",
       "    </tr>\n",
       "    <tr>\n",
       "      <th>...</th>\n",
       "      <td>...</td>\n",
       "      <td>...</td>\n",
       "      <td>...</td>\n",
       "      <td>...</td>\n",
       "      <td>...</td>\n",
       "      <td>...</td>\n",
       "      <td>...</td>\n",
       "      <td>...</td>\n",
       "      <td>...</td>\n",
       "      <td>...</td>\n",
       "      <td>...</td>\n",
       "    </tr>\n",
       "    <tr>\n",
       "      <th>2020-01-01</th>\n",
       "      <td>19:00:00</td>\n",
       "      <td>29</td>\n",
       "      <td>18</td>\n",
       "      <td>11</td>\n",
       "      <td>3</td>\n",
       "      <td>49</td>\n",
       "      <td>1014</td>\n",
       "      <td>10</td>\n",
       "      <td>12</td>\n",
       "      <td>0.0</td>\n",
       "      <td>0.0</td>\n",
       "    </tr>\n",
       "    <tr>\n",
       "      <th>2020-01-01</th>\n",
       "      <td>20:00:00</td>\n",
       "      <td>29</td>\n",
       "      <td>18</td>\n",
       "      <td>12</td>\n",
       "      <td>3</td>\n",
       "      <td>53</td>\n",
       "      <td>1014</td>\n",
       "      <td>10</td>\n",
       "      <td>11</td>\n",
       "      <td>0.0</td>\n",
       "      <td>0.0</td>\n",
       "    </tr>\n",
       "    <tr>\n",
       "      <th>2020-01-01</th>\n",
       "      <td>21:00:00</td>\n",
       "      <td>29</td>\n",
       "      <td>18</td>\n",
       "      <td>12</td>\n",
       "      <td>2</td>\n",
       "      <td>57</td>\n",
       "      <td>1015</td>\n",
       "      <td>10</td>\n",
       "      <td>10</td>\n",
       "      <td>0.0</td>\n",
       "      <td>0.0</td>\n",
       "    </tr>\n",
       "    <tr>\n",
       "      <th>2020-01-01</th>\n",
       "      <td>22:00:00</td>\n",
       "      <td>29</td>\n",
       "      <td>18</td>\n",
       "      <td>12</td>\n",
       "      <td>2</td>\n",
       "      <td>60</td>\n",
       "      <td>1015</td>\n",
       "      <td>10</td>\n",
       "      <td>9</td>\n",
       "      <td>0.0</td>\n",
       "      <td>0.0</td>\n",
       "    </tr>\n",
       "    <tr>\n",
       "      <th>2020-01-01</th>\n",
       "      <td>23:00:00</td>\n",
       "      <td>29</td>\n",
       "      <td>18</td>\n",
       "      <td>13</td>\n",
       "      <td>2</td>\n",
       "      <td>62</td>\n",
       "      <td>1015</td>\n",
       "      <td>10</td>\n",
       "      <td>9</td>\n",
       "      <td>0.0</td>\n",
       "      <td>NaN</td>\n",
       "    </tr>\n",
       "  </tbody>\n",
       "</table>\n",
       "<p>96432 rows × 11 columns</p>\n",
       "</div>"
      ],
      "text/plain": [
       "                Time  maxtempC  mintempC  DewPointC  cloudcover  humidity  \\\n",
       "Date                                                                        \n",
       "2009-01-01  00:00:00        31        13          7           0        50   \n",
       "2009-01-01  01:00:00        31        13          6           0        47   \n",
       "2009-01-01  02:00:00        31        13          6           0        44   \n",
       "2009-01-01  03:00:00        31        13          5           0        41   \n",
       "2009-01-01  04:00:00        31        13          5           1        38   \n",
       "...              ...       ...       ...        ...         ...       ...   \n",
       "2020-01-01  19:00:00        29        18         11           3        49   \n",
       "2020-01-01  20:00:00        29        18         12           3        53   \n",
       "2020-01-01  21:00:00        29        18         12           2        57   \n",
       "2020-01-01  22:00:00        29        18         12           2        60   \n",
       "2020-01-01  23:00:00        29        18         13           2        62   \n",
       "\n",
       "            pressure  visibility  windspeedKmph  precipMM  target  \n",
       "Date                                                               \n",
       "2009-01-01      1013          10              3       0.0     0.0  \n",
       "2009-01-01      1013          10              4       0.0     0.0  \n",
       "2009-01-01      1013          10              5       0.0     0.0  \n",
       "2009-01-01      1013          10              6       0.0     0.0  \n",
       "2009-01-01      1014          10              6       0.0     0.0  \n",
       "...              ...         ...            ...       ...     ...  \n",
       "2020-01-01      1014          10             12       0.0     0.0  \n",
       "2020-01-01      1014          10             11       0.0     0.0  \n",
       "2020-01-01      1015          10             10       0.0     0.0  \n",
       "2020-01-01      1015          10              9       0.0     0.0  \n",
       "2020-01-01      1015          10              9       0.0     NaN  \n",
       "\n",
       "[96432 rows x 11 columns]"
      ]
     },
     "execution_count": 25,
     "metadata": {},
     "output_type": "execute_result"
    }
   ],
   "source": [
    "wt[\"target\"] = wt.shift(-1)[\"precipMM\"]\n",
    "wt"
   ]
  },
  {
   "cell_type": "code",
   "execution_count": 27,
   "id": "1393eccd",
   "metadata": {
    "scrolled": true
   },
   "outputs": [
    {
     "data": {
      "text/html": [
       "<div>\n",
       "<style scoped>\n",
       "    .dataframe tbody tr th:only-of-type {\n",
       "        vertical-align: middle;\n",
       "    }\n",
       "\n",
       "    .dataframe tbody tr th {\n",
       "        vertical-align: top;\n",
       "    }\n",
       "\n",
       "    .dataframe thead th {\n",
       "        text-align: right;\n",
       "    }\n",
       "</style>\n",
       "<table border=\"1\" class=\"dataframe\">\n",
       "  <thead>\n",
       "    <tr style=\"text-align: right;\">\n",
       "      <th></th>\n",
       "      <th>Time</th>\n",
       "      <th>maxtempC</th>\n",
       "      <th>mintempC</th>\n",
       "      <th>DewPointC</th>\n",
       "      <th>cloudcover</th>\n",
       "      <th>humidity</th>\n",
       "      <th>pressure</th>\n",
       "      <th>visibility</th>\n",
       "      <th>windspeedKmph</th>\n",
       "      <th>precipMM</th>\n",
       "      <th>target</th>\n",
       "    </tr>\n",
       "    <tr>\n",
       "      <th>Date</th>\n",
       "      <th></th>\n",
       "      <th></th>\n",
       "      <th></th>\n",
       "      <th></th>\n",
       "      <th></th>\n",
       "      <th></th>\n",
       "      <th></th>\n",
       "      <th></th>\n",
       "      <th></th>\n",
       "      <th></th>\n",
       "      <th></th>\n",
       "    </tr>\n",
       "  </thead>\n",
       "  <tbody>\n",
       "    <tr>\n",
       "      <th>2009-01-01</th>\n",
       "      <td>00:00:00</td>\n",
       "      <td>31</td>\n",
       "      <td>13</td>\n",
       "      <td>7</td>\n",
       "      <td>0</td>\n",
       "      <td>50</td>\n",
       "      <td>1013</td>\n",
       "      <td>10</td>\n",
       "      <td>3</td>\n",
       "      <td>0.0</td>\n",
       "      <td>0.0</td>\n",
       "    </tr>\n",
       "    <tr>\n",
       "      <th>2009-01-01</th>\n",
       "      <td>01:00:00</td>\n",
       "      <td>31</td>\n",
       "      <td>13</td>\n",
       "      <td>6</td>\n",
       "      <td>0</td>\n",
       "      <td>47</td>\n",
       "      <td>1013</td>\n",
       "      <td>10</td>\n",
       "      <td>4</td>\n",
       "      <td>0.0</td>\n",
       "      <td>0.0</td>\n",
       "    </tr>\n",
       "    <tr>\n",
       "      <th>2009-01-01</th>\n",
       "      <td>02:00:00</td>\n",
       "      <td>31</td>\n",
       "      <td>13</td>\n",
       "      <td>6</td>\n",
       "      <td>0</td>\n",
       "      <td>44</td>\n",
       "      <td>1013</td>\n",
       "      <td>10</td>\n",
       "      <td>5</td>\n",
       "      <td>0.0</td>\n",
       "      <td>0.0</td>\n",
       "    </tr>\n",
       "    <tr>\n",
       "      <th>2009-01-01</th>\n",
       "      <td>03:00:00</td>\n",
       "      <td>31</td>\n",
       "      <td>13</td>\n",
       "      <td>5</td>\n",
       "      <td>0</td>\n",
       "      <td>41</td>\n",
       "      <td>1013</td>\n",
       "      <td>10</td>\n",
       "      <td>6</td>\n",
       "      <td>0.0</td>\n",
       "      <td>0.0</td>\n",
       "    </tr>\n",
       "    <tr>\n",
       "      <th>2009-01-01</th>\n",
       "      <td>04:00:00</td>\n",
       "      <td>31</td>\n",
       "      <td>13</td>\n",
       "      <td>5</td>\n",
       "      <td>1</td>\n",
       "      <td>38</td>\n",
       "      <td>1014</td>\n",
       "      <td>10</td>\n",
       "      <td>6</td>\n",
       "      <td>0.0</td>\n",
       "      <td>0.0</td>\n",
       "    </tr>\n",
       "    <tr>\n",
       "      <th>...</th>\n",
       "      <td>...</td>\n",
       "      <td>...</td>\n",
       "      <td>...</td>\n",
       "      <td>...</td>\n",
       "      <td>...</td>\n",
       "      <td>...</td>\n",
       "      <td>...</td>\n",
       "      <td>...</td>\n",
       "      <td>...</td>\n",
       "      <td>...</td>\n",
       "      <td>...</td>\n",
       "    </tr>\n",
       "    <tr>\n",
       "      <th>2020-01-01</th>\n",
       "      <td>17:00:00</td>\n",
       "      <td>29</td>\n",
       "      <td>18</td>\n",
       "      <td>10</td>\n",
       "      <td>3</td>\n",
       "      <td>41</td>\n",
       "      <td>1012</td>\n",
       "      <td>10</td>\n",
       "      <td>14</td>\n",
       "      <td>0.0</td>\n",
       "      <td>0.0</td>\n",
       "    </tr>\n",
       "    <tr>\n",
       "      <th>2020-01-01</th>\n",
       "      <td>18:00:00</td>\n",
       "      <td>29</td>\n",
       "      <td>18</td>\n",
       "      <td>11</td>\n",
       "      <td>4</td>\n",
       "      <td>45</td>\n",
       "      <td>1013</td>\n",
       "      <td>10</td>\n",
       "      <td>13</td>\n",
       "      <td>0.0</td>\n",
       "      <td>0.0</td>\n",
       "    </tr>\n",
       "    <tr>\n",
       "      <th>2020-01-01</th>\n",
       "      <td>19:00:00</td>\n",
       "      <td>29</td>\n",
       "      <td>18</td>\n",
       "      <td>11</td>\n",
       "      <td>3</td>\n",
       "      <td>49</td>\n",
       "      <td>1014</td>\n",
       "      <td>10</td>\n",
       "      <td>12</td>\n",
       "      <td>0.0</td>\n",
       "      <td>0.0</td>\n",
       "    </tr>\n",
       "    <tr>\n",
       "      <th>2020-01-01</th>\n",
       "      <td>20:00:00</td>\n",
       "      <td>29</td>\n",
       "      <td>18</td>\n",
       "      <td>12</td>\n",
       "      <td>3</td>\n",
       "      <td>53</td>\n",
       "      <td>1014</td>\n",
       "      <td>10</td>\n",
       "      <td>11</td>\n",
       "      <td>0.0</td>\n",
       "      <td>0.0</td>\n",
       "    </tr>\n",
       "    <tr>\n",
       "      <th>2020-01-01</th>\n",
       "      <td>21:00:00</td>\n",
       "      <td>29</td>\n",
       "      <td>18</td>\n",
       "      <td>12</td>\n",
       "      <td>2</td>\n",
       "      <td>57</td>\n",
       "      <td>1015</td>\n",
       "      <td>10</td>\n",
       "      <td>10</td>\n",
       "      <td>0.0</td>\n",
       "      <td>0.0</td>\n",
       "    </tr>\n",
       "  </tbody>\n",
       "</table>\n",
       "<p>96430 rows × 11 columns</p>\n",
       "</div>"
      ],
      "text/plain": [
       "                Time  maxtempC  mintempC  DewPointC  cloudcover  humidity  \\\n",
       "Date                                                                        \n",
       "2009-01-01  00:00:00        31        13          7           0        50   \n",
       "2009-01-01  01:00:00        31        13          6           0        47   \n",
       "2009-01-01  02:00:00        31        13          6           0        44   \n",
       "2009-01-01  03:00:00        31        13          5           0        41   \n",
       "2009-01-01  04:00:00        31        13          5           1        38   \n",
       "...              ...       ...       ...        ...         ...       ...   \n",
       "2020-01-01  17:00:00        29        18         10           3        41   \n",
       "2020-01-01  18:00:00        29        18         11           4        45   \n",
       "2020-01-01  19:00:00        29        18         11           3        49   \n",
       "2020-01-01  20:00:00        29        18         12           3        53   \n",
       "2020-01-01  21:00:00        29        18         12           2        57   \n",
       "\n",
       "            pressure  visibility  windspeedKmph  precipMM  target  \n",
       "Date                                                               \n",
       "2009-01-01      1013          10              3       0.0     0.0  \n",
       "2009-01-01      1013          10              4       0.0     0.0  \n",
       "2009-01-01      1013          10              5       0.0     0.0  \n",
       "2009-01-01      1013          10              6       0.0     0.0  \n",
       "2009-01-01      1014          10              6       0.0     0.0  \n",
       "...              ...         ...            ...       ...     ...  \n",
       "2020-01-01      1012          10             14       0.0     0.0  \n",
       "2020-01-01      1013          10             13       0.0     0.0  \n",
       "2020-01-01      1014          10             12       0.0     0.0  \n",
       "2020-01-01      1014          10             11       0.0     0.0  \n",
       "2020-01-01      1015          10             10       0.0     0.0  \n",
       "\n",
       "[96430 rows x 11 columns]"
      ]
     },
     "execution_count": 27,
     "metadata": {},
     "output_type": "execute_result"
    }
   ],
   "source": [
    "wt = wt.iloc[:-1,:].copy()\n",
    "wt"
   ]
  },
  {
   "cell_type": "code",
   "execution_count": 29,
   "id": "3dc9abb8",
   "metadata": {},
   "outputs": [],
   "source": [
    "from sklearn.linear_model import Ridge\n",
    "\n",
    "reg = Ridge(alpha=.1)"
   ]
  },
  {
   "cell_type": "code",
   "execution_count": 31,
   "id": "0f6b5ce0",
   "metadata": {},
   "outputs": [],
   "source": [
    "predictors = [\"maxtempC\",\"mintempC\",\"DewPointC\",\"cloudcover\",\"humidity\",\"pressure\",\"visibility\",\"windspeedKmph\"]"
   ]
  },
  {
   "cell_type": "code",
   "execution_count": 33,
   "id": "c4e99de2",
   "metadata": {},
   "outputs": [],
   "source": [
    "train= wt.loc[:\"2017-12-31\"]\n"
   ]
  },
  {
   "cell_type": "code",
   "execution_count": 34,
   "id": "f9ce77e9",
   "metadata": {},
   "outputs": [],
   "source": [
    "test = wt.loc[\"2018-1-1\":]"
   ]
  },
  {
   "cell_type": "code",
   "execution_count": 35,
   "id": "93ac40b5",
   "metadata": {},
   "outputs": [
    {
     "data": {
      "text/plain": [
       "Ridge(alpha=0.1)"
      ]
     },
     "execution_count": 35,
     "metadata": {},
     "output_type": "execute_result"
    }
   ],
   "source": [
    "reg.fit(train[predictors],train[\"target\"])"
   ]
  },
  {
   "cell_type": "code",
   "execution_count": 39,
   "id": "556bd797",
   "metadata": {},
   "outputs": [],
   "source": [
    "prediction = reg.predict(test[predictors])  "
   ]
  },
  {
   "cell_type": "code",
   "execution_count": 50,
   "id": "f13e513a",
   "metadata": {},
   "outputs": [],
   "source": [
    "from sklearn.metrics import mean_absolute_error, mean_squared_error, r2_score"
   ]
  },
  {
   "cell_type": "code",
   "execution_count": 41,
   "id": "89354a87",
   "metadata": {},
   "outputs": [
    {
     "data": {
      "text/plain": [
       "0.1535570572137709"
      ]
     },
     "execution_count": 41,
     "metadata": {},
     "output_type": "execute_result"
    }
   ],
   "source": [
    "mean_absolute_error(test[\"target\"],prediction)"
   ]
  },
  {
   "cell_type": "code",
   "execution_count": 51,
   "id": "90e8538d",
   "metadata": {},
   "outputs": [
    {
     "data": {
      "text/plain": [
       "0.4095205767760452"
      ]
     },
     "execution_count": 51,
     "metadata": {},
     "output_type": "execute_result"
    }
   ],
   "source": [
    "mean_squared_error(test[\"target\"],prediction)"
   ]
  },
  {
   "cell_type": "code",
   "execution_count": 52,
   "id": "21cf98c4",
   "metadata": {},
   "outputs": [
    {
     "data": {
      "text/plain": [
       "0.04532437333274408"
      ]
     },
     "execution_count": 52,
     "metadata": {},
     "output_type": "execute_result"
    }
   ],
   "source": [
    "r2_score(test[\"target\"],prediction)"
   ]
  },
  {
   "cell_type": "code",
   "execution_count": 47,
   "id": "9905566a",
   "metadata": {},
   "outputs": [
    {
     "data": {
      "text/html": [
       "<div>\n",
       "<style scoped>\n",
       "    .dataframe tbody tr th:only-of-type {\n",
       "        vertical-align: middle;\n",
       "    }\n",
       "\n",
       "    .dataframe tbody tr th {\n",
       "        vertical-align: top;\n",
       "    }\n",
       "\n",
       "    .dataframe thead th {\n",
       "        text-align: right;\n",
       "    }\n",
       "</style>\n",
       "<table border=\"1\" class=\"dataframe\">\n",
       "  <thead>\n",
       "    <tr style=\"text-align: right;\">\n",
       "      <th></th>\n",
       "      <th>actual</th>\n",
       "      <th>prediction</th>\n",
       "    </tr>\n",
       "    <tr>\n",
       "      <th>Date</th>\n",
       "      <th></th>\n",
       "      <th></th>\n",
       "    </tr>\n",
       "  </thead>\n",
       "  <tbody>\n",
       "    <tr>\n",
       "      <th>2018-01-01</th>\n",
       "      <td>0.0</td>\n",
       "      <td>0.050537</td>\n",
       "    </tr>\n",
       "    <tr>\n",
       "      <th>2018-01-01</th>\n",
       "      <td>0.0</td>\n",
       "      <td>0.048484</td>\n",
       "    </tr>\n",
       "    <tr>\n",
       "      <th>2018-01-01</th>\n",
       "      <td>0.0</td>\n",
       "      <td>0.041175</td>\n",
       "    </tr>\n",
       "    <tr>\n",
       "      <th>2018-01-01</th>\n",
       "      <td>0.0</td>\n",
       "      <td>0.035568</td>\n",
       "    </tr>\n",
       "    <tr>\n",
       "      <th>2018-01-01</th>\n",
       "      <td>0.0</td>\n",
       "      <td>0.037942</td>\n",
       "    </tr>\n",
       "    <tr>\n",
       "      <th>...</th>\n",
       "      <td>...</td>\n",
       "      <td>...</td>\n",
       "    </tr>\n",
       "    <tr>\n",
       "      <th>2020-01-01</th>\n",
       "      <td>0.0</td>\n",
       "      <td>0.016549</td>\n",
       "    </tr>\n",
       "    <tr>\n",
       "      <th>2020-01-01</th>\n",
       "      <td>0.0</td>\n",
       "      <td>0.008757</td>\n",
       "    </tr>\n",
       "    <tr>\n",
       "      <th>2020-01-01</th>\n",
       "      <td>0.0</td>\n",
       "      <td>-0.006046</td>\n",
       "    </tr>\n",
       "    <tr>\n",
       "      <th>2020-01-01</th>\n",
       "      <td>0.0</td>\n",
       "      <td>-0.004867</td>\n",
       "    </tr>\n",
       "    <tr>\n",
       "      <th>2020-01-01</th>\n",
       "      <td>0.0</td>\n",
       "      <td>-0.019670</td>\n",
       "    </tr>\n",
       "  </tbody>\n",
       "</table>\n",
       "<p>17542 rows × 2 columns</p>\n",
       "</div>"
      ],
      "text/plain": [
       "            actual  prediction\n",
       "Date                          \n",
       "2018-01-01     0.0    0.050537\n",
       "2018-01-01     0.0    0.048484\n",
       "2018-01-01     0.0    0.041175\n",
       "2018-01-01     0.0    0.035568\n",
       "2018-01-01     0.0    0.037942\n",
       "...            ...         ...\n",
       "2020-01-01     0.0    0.016549\n",
       "2020-01-01     0.0    0.008757\n",
       "2020-01-01     0.0   -0.006046\n",
       "2020-01-01     0.0   -0.004867\n",
       "2020-01-01     0.0   -0.019670\n",
       "\n",
       "[17542 rows x 2 columns]"
      ]
     },
     "execution_count": 47,
     "metadata": {},
     "output_type": "execute_result"
    }
   ],
   "source": [
    "combined = pd.concat([test[\"target\"],pd.Series(prediction , index=test.index)],axis=1)\n",
    "combined.columns = [\"actual\",\"prediction\"]\n",
    "combined"
   ]
  },
  {
   "cell_type": "code",
   "execution_count": 48,
   "id": "2883c707",
   "metadata": {},
   "outputs": [
    {
     "data": {
      "text/plain": [
       "<AxesSubplot:xlabel='Date'>"
      ]
     },
     "execution_count": 48,
     "metadata": {},
     "output_type": "execute_result"
    },
    {
     "data": {
      "image/png": "[encoded data removed]",
      "text/plain": [
       "<Figure size 640x480 with 1 Axes>"
      ]
     },
     "metadata": {},
     "output_type": "display_data"
    }
   ],
   "source": [
    "combined.plot()"
   ]
  },
  {
   "cell_type": "code",
   "execution_count": 49,
   "id": "c707b8a8",
   "metadata": {},
   "outputs": [
    {
     "data": {
      "text/plain": [
       "array([-0.01195416,  0.00463517,  0.00584046,  0.00058517, -0.00205355,\n",
       "       -0.00955661, -0.01195766, -0.00355285])"
      ]
     },
     "execution_count": 49,
     "metadata": {},
     "output_type": "execute_result"
    }
   ],
   "source": [
    "reg.coef_"
   ]
  },
  {
   "cell_type": "code",
   "execution_count": null,
   "id": "7970f5cb",
   "metadata": {},
   "outputs": [],
   "source": []
  }
 ],
 "metadata": {
  "kernelspec": {
   "display_name": "Python 3 (ipykernel)",
   "language": "python",
   "name": "python3"
  },
  "language_info": {
   "codemirror_mode": {
    "name": "ipython",
    "version": 3
   },
   "file_extension": ".py",
   "mimetype": "text/x-python",
   "name": "python",
   "nbconvert_exporter": "python",
   "pygments_lexer": "ipython3",
   "version": "3.9.13"
  }
 },
 "nbformat": 4,
 "nbformat_minor": 5
}
